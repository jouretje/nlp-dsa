{
 "cells": [
  {
   "cell_type": "code",
   "execution_count": 74,
   "metadata": {
    "collapsed": true
   },
   "outputs": [],
   "source": [
    "import pandas as pd\n",
    "import numpy as np\n",
    "import csv\n",
    "import nltk\n",
    "import matplotlib.pyplot as plt\n",
    "import seaborn as sns\n",
    "import string\n",
    "from io import StringIO\n",
    "import re\n",
    "import pprint\n",
    "from string import punctuation\n",
    "from __future__ import division"
   ]
  },
  {
   "cell_type": "code",
   "execution_count": 75,
   "metadata": {},
   "outputs": [
    {
     "data": {
      "text/html": [
       "<div>\n",
       "<style>\n",
       "    .dataframe thead tr:only-child th {\n",
       "        text-align: right;\n",
       "    }\n",
       "\n",
       "    .dataframe thead th {\n",
       "        text-align: left;\n",
       "    }\n",
       "\n",
       "    .dataframe tbody tr th {\n",
       "        vertical-align: top;\n",
       "    }\n",
       "</style>\n",
       "<table border=\"1\" class=\"dataframe\">\n",
       "  <thead>\n",
       "    <tr style=\"text-align: right;\">\n",
       "      <th></th>\n",
       "      <th>Emotional</th>\n",
       "      <th>post_text</th>\n",
       "    </tr>\n",
       "  </thead>\n",
       "  <tbody>\n",
       "    <tr>\n",
       "      <th>0</th>\n",
       "      <td>4.0</td>\n",
       "      <td>Hi everybody!\\n\\nI write from Galicia, in the ...</td>\n",
       "    </tr>\n",
       "    <tr>\n",
       "      <th>1</th>\n",
       "      <td>4.0</td>\n",
       "      <td>Hello and Welcome Lou.\\n\\n\\nI am sorry to hear...</td>\n",
       "    </tr>\n",
       "    <tr>\n",
       "      <th>2</th>\n",
       "      <td>1.0</td>\n",
       "      <td>Interesting - my ANA was/is high, but SS antib...</td>\n",
       "    </tr>\n",
       "    <tr>\n",
       "      <th>3</th>\n",
       "      <td>1.0</td>\n",
       "      <td>My blood work was not diffinitive. I was DX'd ...</td>\n",
       "    </tr>\n",
       "    <tr>\n",
       "      <th>4</th>\n",
       "      <td>5.0</td>\n",
       "      <td>Lou, \\n\\nI want to be a support to you as well...</td>\n",
       "    </tr>\n",
       "  </tbody>\n",
       "</table>\n",
       "</div>"
      ],
      "text/plain": [
       "   Emotional                                          post_text\n",
       "0        4.0  Hi everybody!\\n\\nI write from Galicia, in the ...\n",
       "1        4.0  Hello and Welcome Lou.\\n\\n\\nI am sorry to hear...\n",
       "2        1.0  Interesting - my ANA was/is high, but SS antib...\n",
       "3        1.0  My blood work was not diffinitive. I was DX'd ...\n",
       "4        5.0  Lou, \\n\\nI want to be a support to you as well..."
      ]
     },
     "execution_count": 75,
     "metadata": {},
     "output_type": "execute_result"
    }
   ],
   "source": [
    "#Load dataset with hand-coded rating classifications \n",
    "\n",
    "with open('Sjogrens_500.csv', 'rb') as f:\n",
    "  contents = f.read()\n",
    "\n",
    "s = str(contents, 'utf-8', errors=\"ignore\")\n",
    "data = StringIO(s)\n",
    "df=pd.read_csv(data)\n",
    "df.columns = df.columns.to_series().apply(lambda x: x.strip())\n",
    "df = df[['Emotional', 'post_text']]   #Edit for 'Informational/Emotional'\n",
    "df.head()"
   ]
  },
  {
   "cell_type": "code",
   "execution_count": 76,
   "metadata": {},
   "outputs": [
    {
     "data": {
      "text/html": [
       "<div>\n",
       "<style>\n",
       "    .dataframe thead tr:only-child th {\n",
       "        text-align: right;\n",
       "    }\n",
       "\n",
       "    .dataframe thead th {\n",
       "        text-align: left;\n",
       "    }\n",
       "\n",
       "    .dataframe tbody tr th {\n",
       "        vertical-align: top;\n",
       "    }\n",
       "</style>\n",
       "<table border=\"1\" class=\"dataframe\">\n",
       "  <thead>\n",
       "    <tr style=\"text-align: right;\">\n",
       "      <th></th>\n",
       "      <th>target</th>\n",
       "      <th>text</th>\n",
       "    </tr>\n",
       "  </thead>\n",
       "  <tbody>\n",
       "    <tr>\n",
       "      <th>0</th>\n",
       "      <td>4.0</td>\n",
       "      <td>Hi everybody!\\n\\nI write from Galicia, in the ...</td>\n",
       "    </tr>\n",
       "    <tr>\n",
       "      <th>1</th>\n",
       "      <td>4.0</td>\n",
       "      <td>Hello and Welcome Lou.\\n\\n\\nI am sorry to hear...</td>\n",
       "    </tr>\n",
       "    <tr>\n",
       "      <th>2</th>\n",
       "      <td>1.0</td>\n",
       "      <td>Interesting - my ANA was/is high, but SS antib...</td>\n",
       "    </tr>\n",
       "    <tr>\n",
       "      <th>3</th>\n",
       "      <td>1.0</td>\n",
       "      <td>My blood work was not diffinitive. I was DX'd ...</td>\n",
       "    </tr>\n",
       "    <tr>\n",
       "      <th>4</th>\n",
       "      <td>5.0</td>\n",
       "      <td>Lou, \\n\\nI want to be a support to you as well...</td>\n",
       "    </tr>\n",
       "  </tbody>\n",
       "</table>\n",
       "</div>"
      ],
      "text/plain": [
       "   target                                               text\n",
       "0     4.0  Hi everybody!\\n\\nI write from Galicia, in the ...\n",
       "1     4.0  Hello and Welcome Lou.\\n\\n\\nI am sorry to hear...\n",
       "2     1.0  Interesting - my ANA was/is high, but SS antib...\n",
       "3     1.0  My blood work was not diffinitive. I was DX'd ...\n",
       "4     5.0  Lou, \\n\\nI want to be a support to you as well..."
      ]
     },
     "execution_count": 76,
     "metadata": {},
     "output_type": "execute_result"
    }
   ],
   "source": [
    "#Clean and format column names\n",
    "\n",
    "df = df.dropna()\n",
    "df = df.rename(columns = {'post_text': 'text','Emotional': 'target'})  #Edit for 'Informationl/Emotional'\n",
    "df.head()"
   ]
  },
  {
   "cell_type": "code",
   "execution_count": 77,
   "metadata": {},
   "outputs": [
    {
     "data": {
      "text/html": [
       "<div>\n",
       "<style>\n",
       "    .dataframe thead tr:only-child th {\n",
       "        text-align: right;\n",
       "    }\n",
       "\n",
       "    .dataframe thead th {\n",
       "        text-align: left;\n",
       "    }\n",
       "\n",
       "    .dataframe tbody tr th {\n",
       "        vertical-align: top;\n",
       "    }\n",
       "</style>\n",
       "<table border=\"1\" class=\"dataframe\">\n",
       "  <thead>\n",
       "    <tr>\n",
       "      <th></th>\n",
       "      <th colspan=\"4\" halign=\"left\">text</th>\n",
       "    </tr>\n",
       "    <tr>\n",
       "      <th></th>\n",
       "      <th>count</th>\n",
       "      <th>unique</th>\n",
       "      <th>top</th>\n",
       "      <th>freq</th>\n",
       "    </tr>\n",
       "    <tr>\n",
       "      <th>target</th>\n",
       "      <th></th>\n",
       "      <th></th>\n",
       "      <th></th>\n",
       "      <th></th>\n",
       "    </tr>\n",
       "  </thead>\n",
       "  <tbody>\n",
       "    <tr>\n",
       "      <th>1.0</th>\n",
       "      <td>253</td>\n",
       "      <td>253</td>\n",
       "      <td>I had my second set of plugs put in this week....</td>\n",
       "      <td>1</td>\n",
       "    </tr>\n",
       "    <tr>\n",
       "      <th>2.0</th>\n",
       "      <td>97</td>\n",
       "      <td>97</td>\n",
       "      <td>Mat, \\n̴_ ̴_ ̴_I'm going on my 3rd year readin...</td>\n",
       "      <td>1</td>\n",
       "    </tr>\n",
       "    <tr>\n",
       "      <th>3.0</th>\n",
       "      <td>34</td>\n",
       "      <td>34</td>\n",
       "      <td>They don't know for sure what causes some peop...</td>\n",
       "      <td>1</td>\n",
       "    </tr>\n",
       "    <tr>\n",
       "      <th>4.0</th>\n",
       "      <td>63</td>\n",
       "      <td>63</td>\n",
       "      <td>Cindy-\\nThe steroids should help with some of ...</td>\n",
       "      <td>1</td>\n",
       "    </tr>\n",
       "    <tr>\n",
       "      <th>5.0</th>\n",
       "      <td>51</td>\n",
       "      <td>51</td>\n",
       "      <td>So glad they caught the lymphoma on time Lotus...</td>\n",
       "      <td>1</td>\n",
       "    </tr>\n",
       "  </tbody>\n",
       "</table>\n",
       "</div>"
      ],
      "text/plain": [
       "        text                                                               \n",
       "       count unique                                                top freq\n",
       "target                                                                     \n",
       "1.0      253    253  I had my second set of plugs put in this week....    1\n",
       "2.0       97     97  Mat, \\n̴_ ̴_ ̴_I'm going on my 3rd year readin...    1\n",
       "3.0       34     34  They don't know for sure what causes some peop...    1\n",
       "4.0       63     63  Cindy-\\nThe steroids should help with some of ...    1\n",
       "5.0       51     51  So glad they caught the lymphoma on time Lotus...    1"
      ]
     },
     "execution_count": 77,
     "metadata": {},
     "output_type": "execute_result"
    }
   ],
   "source": [
    "#Find the distribution of rating classifications in the dataset\n",
    "df.groupby('target').describe()"
   ]
  },
  {
   "cell_type": "code",
   "execution_count": 78,
   "metadata": {},
   "outputs": [
    {
     "name": "stdout",
     "output_type": "stream",
     "text": [
      "Null Accuracy: 50.80%\n"
     ]
    }
   ],
   "source": [
    "#Calculate null accuracy: ie. accuracy that could be achieved by always predicting the most frequent class\n",
    "null_accuracy_Emotional = (253 / len(df.target)) * 100\n",
    "print('Null Accuracy: %.2f%%' % (null_accuracy_Emotional))"
   ]
  },
  {
   "cell_type": "code",
   "execution_count": 79,
   "metadata": {},
   "outputs": [
    {
     "data": {
      "text/plain": [
       "<matplotlib.legend.Legend at 0x7fe1879bb4a8>"
      ]
     },
     "execution_count": 79,
     "metadata": {},
     "output_type": "execute_result"
    },
    {
     "data": {
      "image/png": "[encoded data removed]",
      "text/plain": [
       "<matplotlib.figure.Figure at 0x7fe187e585c0>"
      ]
     },
     "metadata": {},
     "output_type": "display_data"
    }
   ],
   "source": [
    "#### Visualize distribution of features in dataset ###\n",
    "\n",
    "#Length of post (number of characters)\n",
    "s1 = df[df['target'] == 1]['text'].str.len()\n",
    "sns.distplot(s1, label='1')\n",
    "s2 = df[df['target'] == 2]['text'].str.len()\n",
    "sns.distplot(s2, label='2')\n",
    "s3 = df[df['target'] == 3]['text'].str.len()\n",
    "sns.distplot(s3, label='3')\n",
    "s4 = df[df['target'] == 4]['text'].str.len()\n",
    "sns.distplot(s4, label='4')\n",
    "s5 = df[df['target'] == 5]['text'].str.len()\n",
    "sns.distplot(s5, label='5')\n",
    "\n",
    "plt.title('Length of Posts in each rating class')\n",
    "plt.legend()"
   ]
  },
  {
   "cell_type": "code",
   "execution_count": 80,
   "metadata": {},
   "outputs": [
    {
     "data": {
      "text/plain": [
       "<matplotlib.legend.Legend at 0x7fe187e584a8>"
      ]
     },
     "execution_count": 80,
     "metadata": {},
     "output_type": "execute_result"
    },
    {
     "data": {
      "image/png": "[encoded data removed]",
      "text/plain": [
       "<matplotlib.figure.Figure at 0x7fe187df7b38>"
      ]
     },
     "metadata": {},
     "output_type": "display_data"
    }
   ],
   "source": [
    "# Number of digits in post\n",
    "# \\d matches a digit, and \\D matches anything else\n",
    "\n",
    "#s1 = df[df['target'] == 1]['text'].str.replace(r'\\D+', '').str.len()\n",
    "#sns.distplot(s1, label='1')\n",
    "s2 = df[df['target'] == 2]['text'].str.replace(r'\\D+', '').str.len()\n",
    "sns.distplot(s2, label='2')\n",
    "s3 = df[df['target'] == 3]['text'].str.replace(r'\\D+', '').str.len()\n",
    "sns.distplot(s3, label='3')\n",
    "s4 = df[df['target'] == 4]['text'].str.replace(r'\\D+', '').str.len()\n",
    "sns.distplot(s4, label='4')\n",
    "s5 = df[df['target'] == 5]['text'].str.replace(r'\\D+', '').str.len()\n",
    "sns.distplot(s5, label='5')\n",
    "\n",
    "plt.title('Number (count) of digits in each post')\n",
    "plt.legend()"
   ]
  },
  {
   "cell_type": "code",
   "execution_count": null,
   "metadata": {
    "collapsed": true
   },
   "outputs": [],
   "source": []
  },
  {
   "cell_type": "code",
   "execution_count": 81,
   "metadata": {},
   "outputs": [
    {
     "data": {
      "text/plain": [
       "<matplotlib.legend.Legend at 0x7fe187f5ac18>"
      ]
     },
     "execution_count": 81,
     "metadata": {},
     "output_type": "execute_result"
    },
    {
     "data": {
      "image/png": "[encoded data removed]",
      "text/plain": [
       "<matplotlib.figure.Figure at 0x7fe1877eb080>"
      ]
     },
     "metadata": {},
     "output_type": "display_data"
    }
   ],
   "source": [
    "# Matches of non-word characters (anything other than a letter, digit or underscore.)\n",
    "# \\W matches a word characater, \\w matches anything else\n",
    "\n",
    "\n",
    "s1 = df[df['target'] == 1]['text'].str.replace(r'\\w+', '').str.len()\n",
    "sns.distplot(s1, label='1')\n",
    "s2 = df[df['target'] == 2]['text'].str.replace(r'\\w+', '').str.len()\n",
    "sns.distplot(s2, label='2')\n",
    "s3 = df[df['target'] == 3]['text'].str.replace(r'\\w+', '').str.len()\n",
    "sns.distplot(s3, label='3')\n",
    "s4 = df[df['target'] == 4]['text'].str.replace(r'\\w+', '').str.len()\n",
    "sns.distplot(s4, label='4')\n",
    "s5 = df[df['target'] == 5]['text'].str.replace(r'\\w+', '').str.len()\n",
    "sns.distplot(s5, label='5')\n",
    "\n",
    "plt.title('Number (count) of non-word characters in each post')\n",
    "plt.legend()"
   ]
  },
  {
   "cell_type": "code",
   "execution_count": null,
   "metadata": {
    "collapsed": true
   },
   "outputs": [],
   "source": []
  },
  {
   "cell_type": "code",
   "execution_count": 82,
   "metadata": {
    "collapsed": true
   },
   "outputs": [],
   "source": [
    "#Split the dataset into training and testing sets\n",
    "\n",
    "from sklearn.model_selection import train_test_split\n",
    "\n",
    "X_train, X_test, y_train, y_test = train_test_split(df['text'], \n",
    "                                                    df['target'], \n",
    "                                                    random_state=0)"
   ]
  },
  {
   "cell_type": "code",
   "execution_count": 83,
   "metadata": {},
   "outputs": [
    {
     "name": "stdout",
     "output_type": "stream",
     "text": [
      "Vocabulary len: 1572\n",
      "Longest word: gastroenterologist\n"
     ]
    }
   ],
   "source": [
    "'''Vectorize the 'text' input--ie, each word in the training set corpus becomes a feature, and each post  \n",
    "is represented as a vector with an integer count for each word. aka Document Term Matrix.\n",
    "Sticking with just this matrix as an input for the model is a \"Bag of Words\" approach to text classification'''\n",
    "\n",
    "from sklearn.feature_extraction.text import TfidfVectorizer\n",
    "\n",
    "vect = TfidfVectorizer(min_df = 3).fit(X_train)\n",
    "print('Vocabulary len:', len(vect.get_feature_names()))\n",
    "print('Longest word:', max(vect.vocabulary_, key=len))\n",
    "\n",
    "X_train_vectorized = vect.transform(X_train)\n"
   ]
  },
  {
   "cell_type": "code",
   "execution_count": 84,
   "metadata": {},
   "outputs": [
    {
     "data": {
      "text/plain": [
       "MultinomialNB(alpha=0.1, class_prior=None, fit_prior=True)"
      ]
     },
     "execution_count": 84,
     "metadata": {},
     "output_type": "execute_result"
    }
   ],
   "source": [
    "#Fit the model with the training set\n",
    "\n",
    "from sklearn.naive_bayes import MultinomialNB\n",
    "\n",
    "model = MultinomialNB(alpha=0.1)\n",
    "model.fit(X_train_vectorized, y_train)"
   ]
  },
  {
   "cell_type": "code",
   "execution_count": 85,
   "metadata": {},
   "outputs": [
    {
     "name": "stdout",
     "output_type": "stream",
     "text": [
      "Smallest Coefs:\n",
      "['challenges' 'met' 'protect' 'feelings' 'susan' 'project' 'surprised'\n",
      " 'relate' 'overwhelming' 'cleaning']\n",
      "\n",
      "Largest Coefs: \n",
      "['the' 'and' 'to' 'my' 'it' 'of' 'in' 'have' 'is' 'that']\n"
     ]
    }
   ],
   "source": [
    "#Run the following just to explore which terms have highest and lowest frequency metrics in the model\n",
    "\n",
    "# get the feature names as numpy array\n",
    "feature_names = np.array(vect.get_feature_names())\n",
    "\n",
    "# Sort the coefficients from the model\n",
    "sorted_coef_index = model.coef_[0].argsort()\n",
    "\n",
    "# Find the 10 smallest and 10 largest coefficients\n",
    "# The 10 largest coefficients are being indexed using [:-11:-1] \n",
    "# so the list returned is in order of largest to smallest\n",
    "print('Smallest Coefs:\\n{}\\n'.format(feature_names[sorted_coef_index[:10]]))\n",
    "print('Largest Coefs: \\n{}'.format(feature_names[sorted_coef_index[:-11:-1]]))"
   ]
  },
  {
   "cell_type": "code",
   "execution_count": 86,
   "metadata": {},
   "outputs": [
    {
     "name": "stdout",
     "output_type": "stream",
     "text": [
      "Model Accuracy: 61.60%\n"
     ]
    }
   ],
   "source": [
    "#Calculate accuracy of the model\n",
    "\n",
    "from sklearn.metrics import accuracy_score\n",
    "\n",
    "y_pred = model.predict(vect.transform(X_test))\n",
    "print('Model Accuracy: %.2f%%' % (accuracy_score(y_test, y_pred) * 100))"
   ]
  },
  {
   "cell_type": "code",
   "execution_count": 90,
   "metadata": {},
   "outputs": [
    {
     "data": {
      "text/plain": [
       "array([ 1.,  5.,  1.,  1.,  1.,  1.,  1.,  1.,  1.,  1.,  1.,  5.,  1.,\n",
       "        1.,  1.,  1.,  1.,  1.,  1.,  1.,  1.,  1.,  2.,  1.,  1.,  1.,\n",
       "        1.,  1.,  1.,  1.,  2.,  1.,  1.,  2.,  1.,  1.,  1.,  2.,  1.,\n",
       "        1.,  1.,  1.,  1.,  1.,  1.,  1.,  1.,  1.,  1.,  1.,  1.,  1.,\n",
       "        1.,  1.,  1.,  1.,  5.,  1.,  1.,  1.,  1.,  5.,  1.,  1.,  1.,\n",
       "        2.,  5.,  1.,  5.,  1.,  2.,  1.,  1.,  1.,  1.,  1.,  5.,  1.,\n",
       "        2.,  1.,  1.,  5.,  1.,  2.,  1.,  1.,  1.,  1.,  1.,  1.,  1.,\n",
       "        1.,  1.,  1.,  1.,  2.,  1.,  2.,  1.,  1.,  1.,  1.,  1.,  1.,\n",
       "        1.,  1.,  1.,  1.,  1.,  1.,  5.,  1.,  1.,  5.,  1.,  1.,  1.,\n",
       "        1.,  2.,  1.,  4.,  2.,  1.,  1.,  1.])"
      ]
     },
     "execution_count": 90,
     "metadata": {},
     "output_type": "execute_result"
    }
   ],
   "source": [
    "#Run if you want to look at the actual predicted ratings\n",
    "y_pred\n"
   ]
  },
  {
   "cell_type": "code",
   "execution_count": null,
   "metadata": {
    "collapsed": true
   },
   "outputs": [],
   "source": [
    "### Add Additional features to model? "
   ]
  },
  {
   "cell_type": "markdown",
   "metadata": {},
   "source": [
    "'''use these additional features:\n",
    "\n",
    "1. the length of document (number of characters) \n",
    "    --based on earlier exploration, unlikely to distinguish between rating classes\n",
    "2. number of digits per document -- maybe\n",
    "3. number of non-word characters (anything other than a letter, digit or underscore.)  \n",
    "    --also unlikely to distinguish, based on earlier exploration'''"
   ]
  },
  {
   "cell_type": "code",
   "execution_count": 45,
   "metadata": {
    "collapsed": true
   },
   "outputs": [],
   "source": [
    "#Function to add features: Returns a sparse feature matrix with the added feature.\n",
    "\n",
    "def add_feature(X, feature_to_add):\n",
    "    from scipy.sparse import csr_matrix, hstack\n",
    "    return hstack([X, csr_matrix(feature_to_add).T], 'csr')"
   ]
  },
  {
   "cell_type": "code",
   "execution_count": 46,
   "metadata": {
    "collapsed": true
   },
   "outputs": [],
   "source": [
    "#Play around with these features, to get best accuracy\n",
    "\n",
    "X_train_vectorized = vect.transform(X_train)\n",
    "#X_train_vectorized = add_feature(X_train_vectorized, X_train.str.len())\n",
    "X_train_vectorized = add_feature(X_train_vectorized, X_train.str.replace(r'\\D+', '').str.len())\n",
    "#X_train_vectorized = add_feature(X_train_vectorized, X_train.str.replace(r'\\w+', '').str.len())"
   ]
  },
  {
   "cell_type": "code",
   "execution_count": 47,
   "metadata": {},
   "outputs": [
    {
     "data": {
      "text/plain": [
       "MultinomialNB(alpha=0.1, class_prior=None, fit_prior=True)"
      ]
     },
     "execution_count": 47,
     "metadata": {},
     "output_type": "execute_result"
    }
   ],
   "source": [
    "#Fit the model\n",
    "\n",
    "model = MultinomialNB(alpha=0.1)\n",
    "model.fit(X_train_vectorized, y_train)"
   ]
  },
  {
   "cell_type": "code",
   "execution_count": 48,
   "metadata": {
    "collapsed": true
   },
   "outputs": [],
   "source": [
    "#Add the same features to the test set\n",
    "\n",
    "X_test_vectorized = vect.transform(X_test)\n",
    "#X_test_vectorized = add_feature(X_test_vectorized, X_test.str.len())\n",
    "X_test_vectorized = add_feature(X_test_vectorized, X_test.str.replace(r'\\D+', '').str.len())\n",
    "#X_test_vectorized = add_feature(X_test_vectorized, X_test.str.replace(r'\\w+', '').str.len())\n"
   ]
  },
  {
   "cell_type": "code",
   "execution_count": 49,
   "metadata": {},
   "outputs": [
    {
     "name": "stdout",
     "output_type": "stream",
     "text": [
      "Accuracy: 50.40%\n"
     ]
    }
   ],
   "source": [
    "#Calcuate accuracy   \n",
    "y_pred = model.predict(X_test_vectorized)\n",
    "print('Accuracy: %.2f%%' % (accuracy_score(y_test, y_pred) * 100))"
   ]
  },
  {
   "cell_type": "code",
   "execution_count": null,
   "metadata": {
    "collapsed": true
   },
   "outputs": [],
   "source": []
  },
  {
   "cell_type": "code",
   "execution_count": null,
   "metadata": {
    "collapsed": true
   },
   "outputs": [],
   "source": [
    "'''No combination of above features improved accuracy.\n",
    "Try different features: number of sentences, number of words per sentence, and sentiment'''"
   ]
  },
  {
   "cell_type": "code",
   "execution_count": 91,
   "metadata": {
    "collapsed": true
   },
   "outputs": [],
   "source": [
    "## gets number of sentences in the  post\n",
    "def get_num_sent(text):\n",
    "    sent_text = nltk.sent_tokenize(text)\n",
    "    return len(sent_text)"
   ]
  },
  {
   "cell_type": "code",
   "execution_count": 92,
   "metadata": {
    "collapsed": true
   },
   "outputs": [],
   "source": [
    "## splits post text into a list of words with no punctuation\n",
    "def process_post(text):\n",
    "    text = text.lower()\n",
    "    for p in list(punctuation):\n",
    "        text = text.replace(p, '')\n",
    "    return re.findall(r\"[\\w']+|[{}]\".format(string.punctuation), text)"
   ]
  },
  {
   "cell_type": "code",
   "execution_count": 93,
   "metadata": {
    "collapsed": true
   },
   "outputs": [],
   "source": [
    "## calculates average words per sentence in the post\n",
    "def get_ave_words(text):\n",
    "    sent_text = nltk.sent_tokenize(text)\n",
    "    y = len(sent_text)\n",
    "    x = len(process_post(text))\n",
    "    return x / y"
   ]
  },
  {
   "cell_type": "code",
   "execution_count": 94,
   "metadata": {
    "collapsed": true
   },
   "outputs": [],
   "source": [
    "## searches a list of positive emotion words, calculates proportion of those words per total words\n",
    "\n",
    "def pos_counts(text):\n",
    "    pos_sent = open(\"positive.txt\").read()\n",
    "    positive_words = pos_sent.split('\\n')\n",
    "\n",
    "    positive_counter = 0\n",
    "    words = process_post(text)\n",
    "    word_count = len(words)\n",
    "    for word in words:\n",
    "        if word in positive_words:\n",
    "            positive_counter = positive_counter + 1\n",
    "    positive_counts = positive_counter / word_count\n",
    "    return positive_counts"
   ]
  },
  {
   "cell_type": "code",
   "execution_count": 95,
   "metadata": {
    "collapsed": true
   },
   "outputs": [],
   "source": [
    "## searches a list of negative emotion words, calculates proportion of those words per total words\n",
    "\n",
    "def neg_counts(text):\n",
    "    neg_sent = open('negative.txt').read()\n",
    "    negative_words = neg_sent.split('\\n')\n",
    "\n",
    "    negative_counter = 0\n",
    "    words = process_post(text)\n",
    "    word_count = len(words)\n",
    "    for word in words:\n",
    "        if word in negative_words:\n",
    "            negative_counter = negative_counter + 1\n",
    "    negative_counts = negative_counter / word_count\n",
    "    return negative_counts"
   ]
  },
  {
   "cell_type": "code",
   "execution_count": 96,
   "metadata": {
    "collapsed": true
   },
   "outputs": [],
   "source": [
    "#Try combinations with these features, to see if accuracy improves\n",
    "\n",
    "X_train_vectorized = vect.transform(X_train)\n",
    "\n",
    "X_train_vectorized = add_feature(X_train_vectorized, X_train.apply(get_num_sent))\n",
    "X_train_vectorized = add_feature(X_train_vectorized, X_train.apply(pos_counts))\n",
    "X_train_vectorized = add_feature(X_train_vectorized, X_train.str.replace(r'\\w+', '').str.len())"
   ]
  },
  {
   "cell_type": "code",
   "execution_count": 97,
   "metadata": {
    "collapsed": true
   },
   "outputs": [],
   "source": [
    "X_test_vectorized = vect.transform(X_test)\n",
    "\n",
    "X_test_vectorized = add_feature(X_test_vectorized, X_test.apply(get_num_sent))\n",
    "X_test_vectorized = add_feature(X_test_vectorized, X_test.apply(pos_counts))\n",
    "X_test_vectorized = add_feature(X_test_vectorized, X_test.str.replace(r'\\w+', '').str.len())"
   ]
  },
  {
   "cell_type": "code",
   "execution_count": 98,
   "metadata": {},
   "outputs": [
    {
     "ename": "ValueError",
     "evalue": "dimension mismatch",
     "output_type": "error",
     "traceback": [
      "\u001b[0;31m---------------------------------------------------------------------------\u001b[0m",
      "\u001b[0;31mValueError\u001b[0m                                Traceback (most recent call last)",
      "\u001b[0;32m<ipython-input-98-4e5e65d4e908>\u001b[0m in \u001b[0;36m<module>\u001b[0;34m()\u001b[0m\n\u001b[0;32m----> 1\u001b[0;31m \u001b[0my_pred\u001b[0m \u001b[0;34m=\u001b[0m \u001b[0mmodel\u001b[0m\u001b[0;34m.\u001b[0m\u001b[0mpredict\u001b[0m\u001b[0;34m(\u001b[0m\u001b[0mX_test_vectorized\u001b[0m\u001b[0;34m)\u001b[0m\u001b[0;34m\u001b[0m\u001b[0m\n\u001b[0m\u001b[1;32m      2\u001b[0m \u001b[0;31m#print('Accuracy: %.2f%%' % (accuracy_score(y_test, y_pred) * 100))\u001b[0m\u001b[0;34m\u001b[0m\u001b[0;34m\u001b[0m\u001b[0m\n",
      "\u001b[0;32m/usr/lib64/python3.4/site-packages/sklearn/naive_bayes.py\u001b[0m in \u001b[0;36mpredict\u001b[0;34m(self, X)\u001b[0m\n\u001b[1;32m     64\u001b[0m             \u001b[0mPredicted\u001b[0m \u001b[0mtarget\u001b[0m \u001b[0mvalues\u001b[0m \u001b[0;32mfor\u001b[0m \u001b[0mX\u001b[0m\u001b[0;34m\u001b[0m\u001b[0m\n\u001b[1;32m     65\u001b[0m         \"\"\"\n\u001b[0;32m---> 66\u001b[0;31m         \u001b[0mjll\u001b[0m \u001b[0;34m=\u001b[0m \u001b[0mself\u001b[0m\u001b[0;34m.\u001b[0m\u001b[0m_joint_log_likelihood\u001b[0m\u001b[0;34m(\u001b[0m\u001b[0mX\u001b[0m\u001b[0;34m)\u001b[0m\u001b[0;34m\u001b[0m\u001b[0m\n\u001b[0m\u001b[1;32m     67\u001b[0m         \u001b[0;32mreturn\u001b[0m \u001b[0mself\u001b[0m\u001b[0;34m.\u001b[0m\u001b[0mclasses_\u001b[0m\u001b[0;34m[\u001b[0m\u001b[0mnp\u001b[0m\u001b[0;34m.\u001b[0m\u001b[0margmax\u001b[0m\u001b[0;34m(\u001b[0m\u001b[0mjll\u001b[0m\u001b[0;34m,\u001b[0m \u001b[0maxis\u001b[0m\u001b[0;34m=\u001b[0m\u001b[0;36m1\u001b[0m\u001b[0;34m)\u001b[0m\u001b[0;34m]\u001b[0m\u001b[0;34m\u001b[0m\u001b[0m\n\u001b[1;32m     68\u001b[0m \u001b[0;34m\u001b[0m\u001b[0m\n",
      "\u001b[0;32m/usr/lib64/python3.4/site-packages/sklearn/naive_bayes.py\u001b[0m in \u001b[0;36m_joint_log_likelihood\u001b[0;34m(self, X)\u001b[0m\n\u001b[1;32m    723\u001b[0m \u001b[0;34m\u001b[0m\u001b[0m\n\u001b[1;32m    724\u001b[0m         \u001b[0mX\u001b[0m \u001b[0;34m=\u001b[0m \u001b[0mcheck_array\u001b[0m\u001b[0;34m(\u001b[0m\u001b[0mX\u001b[0m\u001b[0;34m,\u001b[0m \u001b[0maccept_sparse\u001b[0m\u001b[0;34m=\u001b[0m\u001b[0;34m'csr'\u001b[0m\u001b[0;34m)\u001b[0m\u001b[0;34m\u001b[0m\u001b[0m\n\u001b[0;32m--> 725\u001b[0;31m         return (safe_sparse_dot(X, self.feature_log_prob_.T) +\n\u001b[0m\u001b[1;32m    726\u001b[0m                 self.class_log_prior_)\n\u001b[1;32m    727\u001b[0m \u001b[0;34m\u001b[0m\u001b[0m\n",
      "\u001b[0;32m/usr/lib64/python3.4/site-packages/sklearn/utils/extmath.py\u001b[0m in \u001b[0;36msafe_sparse_dot\u001b[0;34m(a, b, dense_output)\u001b[0m\n\u001b[1;32m    133\u001b[0m     \"\"\"\n\u001b[1;32m    134\u001b[0m     \u001b[0;32mif\u001b[0m \u001b[0missparse\u001b[0m\u001b[0;34m(\u001b[0m\u001b[0ma\u001b[0m\u001b[0;34m)\u001b[0m \u001b[0;32mor\u001b[0m \u001b[0missparse\u001b[0m\u001b[0;34m(\u001b[0m\u001b[0mb\u001b[0m\u001b[0;34m)\u001b[0m\u001b[0;34m:\u001b[0m\u001b[0;34m\u001b[0m\u001b[0m\n\u001b[0;32m--> 135\u001b[0;31m         \u001b[0mret\u001b[0m \u001b[0;34m=\u001b[0m \u001b[0ma\u001b[0m \u001b[0;34m*\u001b[0m \u001b[0mb\u001b[0m\u001b[0;34m\u001b[0m\u001b[0m\n\u001b[0m\u001b[1;32m    136\u001b[0m         \u001b[0;32mif\u001b[0m \u001b[0mdense_output\u001b[0m \u001b[0;32mand\u001b[0m \u001b[0mhasattr\u001b[0m\u001b[0;34m(\u001b[0m\u001b[0mret\u001b[0m\u001b[0;34m,\u001b[0m \u001b[0;34m\"toarray\"\u001b[0m\u001b[0;34m)\u001b[0m\u001b[0;34m:\u001b[0m\u001b[0;34m\u001b[0m\u001b[0m\n\u001b[1;32m    137\u001b[0m             \u001b[0mret\u001b[0m \u001b[0;34m=\u001b[0m \u001b[0mret\u001b[0m\u001b[0;34m.\u001b[0m\u001b[0mtoarray\u001b[0m\u001b[0;34m(\u001b[0m\u001b[0;34m)\u001b[0m\u001b[0;34m\u001b[0m\u001b[0m\n",
      "\u001b[0;32m/usr/lib64/python3.4/site-packages/scipy/sparse/base.py\u001b[0m in \u001b[0;36m__mul__\u001b[0;34m(self, other)\u001b[0m\n\u001b[1;32m    403\u001b[0m \u001b[0;34m\u001b[0m\u001b[0m\n\u001b[1;32m    404\u001b[0m             \u001b[0;32mif\u001b[0m \u001b[0mother\u001b[0m\u001b[0;34m.\u001b[0m\u001b[0mshape\u001b[0m\u001b[0;34m[\u001b[0m\u001b[0;36m0\u001b[0m\u001b[0;34m]\u001b[0m \u001b[0;34m!=\u001b[0m \u001b[0mself\u001b[0m\u001b[0;34m.\u001b[0m\u001b[0mshape\u001b[0m\u001b[0;34m[\u001b[0m\u001b[0;36m1\u001b[0m\u001b[0;34m]\u001b[0m\u001b[0;34m:\u001b[0m\u001b[0;34m\u001b[0m\u001b[0m\n\u001b[0;32m--> 405\u001b[0;31m                 \u001b[0;32mraise\u001b[0m \u001b[0mValueError\u001b[0m\u001b[0;34m(\u001b[0m\u001b[0;34m'dimension mismatch'\u001b[0m\u001b[0;34m)\u001b[0m\u001b[0;34m\u001b[0m\u001b[0m\n\u001b[0m\u001b[1;32m    406\u001b[0m \u001b[0;34m\u001b[0m\u001b[0m\n\u001b[1;32m    407\u001b[0m             \u001b[0mresult\u001b[0m \u001b[0;34m=\u001b[0m \u001b[0mself\u001b[0m\u001b[0;34m.\u001b[0m\u001b[0m_mul_multivector\u001b[0m\u001b[0;34m(\u001b[0m\u001b[0mnp\u001b[0m\u001b[0;34m.\u001b[0m\u001b[0masarray\u001b[0m\u001b[0;34m(\u001b[0m\u001b[0mother\u001b[0m\u001b[0;34m)\u001b[0m\u001b[0;34m)\u001b[0m\u001b[0;34m\u001b[0m\u001b[0m\n",
      "\u001b[0;31mValueError\u001b[0m: dimension mismatch"
     ]
    }
   ],
   "source": [
    "y_pred = model.predict(X_test_vectorized)\n",
    "#print('Accuracy: %.2f%%' % (accuracy_score(y_test, y_pred) * 100))"
   ]
  },
  {
   "cell_type": "code",
   "execution_count": null,
   "metadata": {
    "collapsed": true
   },
   "outputs": [],
   "source": [
    "#### STUCK HERE  #### need to figure out how to add these features. \n",
    "## dimension mismatch ??"
   ]
  },
  {
   "cell_type": "code",
   "execution_count": 89,
   "metadata": {},
   "outputs": [
    {
     "data": {
      "text/plain": [
       "<125x1575 sparse matrix of type '<class 'numpy.float64'>'\n",
       "\twith 7577 stored elements in Compressed Sparse Row format>"
      ]
     },
     "execution_count": 89,
     "metadata": {},
     "output_type": "execute_result"
    }
   ],
   "source": [
    "X_test_vectorized"
   ]
  },
  {
   "cell_type": "code",
   "execution_count": 99,
   "metadata": {},
   "outputs": [
    {
     "data": {
      "text/plain": [
       "<373x1575 sparse matrix of type '<class 'numpy.float64'>'\n",
       "\twith 23852 stored elements in Compressed Sparse Row format>"
      ]
     },
     "execution_count": 99,
     "metadata": {},
     "output_type": "execute_result"
    }
   ],
   "source": [
    "X_train_vectorized"
   ]
  },
  {
   "cell_type": "code",
   "execution_count": 59,
   "metadata": {
    "collapsed": true
   },
   "outputs": [],
   "source": [
    "num = X_test.apply(get_num_sent)"
   ]
  },
  {
   "cell_type": "code",
   "execution_count": 60,
   "metadata": {},
   "outputs": [
    {
     "data": {
      "text/plain": [
       "(125,)"
      ]
     },
     "execution_count": 60,
     "metadata": {},
     "output_type": "execute_result"
    }
   ],
   "source": [
    "num.shape"
   ]
  },
  {
   "cell_type": "code",
   "execution_count": 67,
   "metadata": {},
   "outputs": [
    {
     "data": {
      "text/plain": [
       "(125,)"
      ]
     },
     "execution_count": 67,
     "metadata": {},
     "output_type": "execute_result"
    }
   ],
   "source": [
    "y_test.shape"
   ]
  },
  {
   "cell_type": "code",
   "execution_count": 68,
   "metadata": {},
   "outputs": [
    {
     "data": {
      "text/plain": [
       "(125,)"
      ]
     },
     "execution_count": 68,
     "metadata": {},
     "output_type": "execute_result"
    }
   ],
   "source": [
    "y_pred.shape"
   ]
  },
  {
   "cell_type": "code",
   "execution_count": 69,
   "metadata": {},
   "outputs": [
    {
     "data": {
      "text/plain": [
       "array([ 1.,  5.,  1.,  2.,  1.,  1.,  1.,  1.,  2.,  4.,  1.,  5.,  1.,\n",
       "        1.,  1.,  1.,  1.,  1.,  4.,  1.,  5.,  1.,  1.,  1.,  2.,  1.,\n",
       "        1.,  5.,  1.,  1.,  2.,  1.,  4.,  2.,  5.,  1.,  1.,  2.,  1.,\n",
       "        5.,  2.,  2.,  4.,  1.,  1.,  5.,  2.,  4.,  1.,  1.,  1.,  4.,\n",
       "        2.,  1.,  1.,  1.,  5.,  4.,  1.,  1.,  1.,  5.,  2.,  1.,  1.,\n",
       "        2.,  5.,  2.,  5.,  1.,  2.,  1.,  5.,  5.,  1.,  1.,  5.,  4.,\n",
       "        2.,  4.,  1.,  5.,  4.,  1.,  5.,  4.,  1.,  1.,  1.,  2.,  4.,\n",
       "        4.,  4.,  1.,  1.,  1.,  1.,  2.,  2.,  2.,  2.,  2.,  1.,  1.,\n",
       "        1.,  4.,  1.,  1.,  1.,  4.,  5.,  1.,  1.,  5.,  4.,  2.,  2.,\n",
       "        2.,  2.,  1.,  4.,  2.,  1.,  1.,  1.])"
      ]
     },
     "execution_count": 69,
     "metadata": {},
     "output_type": "execute_result"
    }
   ],
   "source": [
    "y_pred"
   ]
  },
  {
   "cell_type": "code",
   "execution_count": 65,
   "metadata": {},
   "outputs": [
    {
     "data": {
      "text/plain": [
       "90     1.0\n",
       "255    3.0\n",
       "284    1.0\n",
       "445    2.0\n",
       "337    1.0\n",
       "15     2.0\n",
       "317    1.0\n",
       "489    1.0\n",
       "159    1.0\n",
       "153    4.0\n",
       "242    1.0\n",
       "251    5.0\n",
       "428    1.0\n",
       "290    4.0\n",
       "171    1.0\n",
       "328    1.0\n",
       "468    1.0\n",
       "354    1.0\n",
       "154    2.0\n",
       "37     1.0\n",
       "205    5.0\n",
       "365    1.0\n",
       "241    3.0\n",
       "108    1.0\n",
       "45     5.0\n",
       "438    1.0\n",
       "21     1.0\n",
       "366    2.0\n",
       "96     1.0\n",
       "234    1.0\n",
       "      ... \n",
       "393    2.0\n",
       "56     1.0\n",
       "440    2.0\n",
       "60     3.0\n",
       "208    1.0\n",
       "107    1.0\n",
       "399    1.0\n",
       "71     1.0\n",
       "484    1.0\n",
       "6      5.0\n",
       "412    1.0\n",
       "113    1.0\n",
       "237    1.0\n",
       "300    4.0\n",
       "155    2.0\n",
       "273    3.0\n",
       "7      3.0\n",
       "137    1.0\n",
       "8      5.0\n",
       "431    4.0\n",
       "432    2.0\n",
       "367    1.0\n",
       "285    4.0\n",
       "210    3.0\n",
       "188    3.0\n",
       "430    5.0\n",
       "49     1.0\n",
       "134    1.0\n",
       "364    3.0\n",
       "410    1.0\n",
       "Name: target, Length: 125, dtype: float64"
      ]
     },
     "execution_count": 65,
     "metadata": {},
     "output_type": "execute_result"
    }
   ],
   "source": [
    "y_test"
   ]
  },
  {
   "cell_type": "code",
   "execution_count": 72,
   "metadata": {},
   "outputs": [
    {
     "data": {
      "text/plain": [
       "pandas.core.series.Series"
      ]
     },
     "execution_count": 72,
     "metadata": {},
     "output_type": "execute_result"
    }
   ],
   "source": [
    "type(y_test)"
   ]
  },
  {
   "cell_type": "code",
   "execution_count": 73,
   "metadata": {},
   "outputs": [
    {
     "data": {
      "text/plain": [
       "numpy.ndarray"
      ]
     },
     "execution_count": 73,
     "metadata": {},
     "output_type": "execute_result"
    }
   ],
   "source": [
    "type(y_pred)"
   ]
  },
  {
   "cell_type": "code",
   "execution_count": null,
   "metadata": {
    "collapsed": true
   },
   "outputs": [],
   "source": []
  }
 ],
 "metadata": {
  "kernelspec": {
   "display_name": "Python 3",
   "language": "python",
   "name": "python3"
  },
  "language_info": {
   "codemirror_mode": {
    "name": "ipython",
    "version": 3
   },
   "file_extension": ".py",
   "mimetype": "text/x-python",
   "name": "python",
   "nbconvert_exporter": "python",
   "pygments_lexer": "ipython3",
   "version": "3.4.5"
  }
 },
 "nbformat": 4,
 "nbformat_minor": 2
}
