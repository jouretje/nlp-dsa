{
 "cells": [
  {
   "cell_type": "code",
   "execution_count": 4,
   "metadata": {
    "collapsed": true
   },
   "outputs": [],
   "source": [
    "#Import libraries\n",
    "\n",
    "import pandas as pd\n",
    "import numpy as np\n",
    "import csv\n",
    "import nltk\n",
    "import matplotlib.pyplot as plt\n",
    "import seaborn as sns\n",
    "import string\n",
    "from io import StringIO\n",
    "import re\n",
    "import pprint\n",
    "from string import punctuation\n",
    "from __future__ import division"
   ]
  },
  {
   "cell_type": "code",
   "execution_count": 5,
   "metadata": {},
   "outputs": [
    {
     "data": {
      "text/html": [
       "<div>\n",
       "<style>\n",
       "    .dataframe thead tr:only-child th {\n",
       "        text-align: right;\n",
       "    }\n",
       "\n",
       "    .dataframe thead th {\n",
       "        text-align: left;\n",
       "    }\n",
       "\n",
       "    .dataframe tbody tr th {\n",
       "        vertical-align: top;\n",
       "    }\n",
       "</style>\n",
       "<table border=\"1\" class=\"dataframe\">\n",
       "  <thead>\n",
       "    <tr style=\"text-align: right;\">\n",
       "      <th></th>\n",
       "      <th>Informational</th>\n",
       "      <th>post_text</th>\n",
       "    </tr>\n",
       "  </thead>\n",
       "  <tbody>\n",
       "    <tr>\n",
       "      <th>0</th>\n",
       "      <td>5.0</td>\n",
       "      <td>Hi everybody!\\n\\nI write from Galicia, in the ...</td>\n",
       "    </tr>\n",
       "    <tr>\n",
       "      <th>1</th>\n",
       "      <td>5.0</td>\n",
       "      <td>Hello and Welcome Lou.\\n\\n\\nI am sorry to hear...</td>\n",
       "    </tr>\n",
       "    <tr>\n",
       "      <th>2</th>\n",
       "      <td>5.0</td>\n",
       "      <td>Interesting - my ANA was/is high, but SS antib...</td>\n",
       "    </tr>\n",
       "    <tr>\n",
       "      <th>3</th>\n",
       "      <td>3.0</td>\n",
       "      <td>My blood work was not diffinitive. I was DX'd ...</td>\n",
       "    </tr>\n",
       "    <tr>\n",
       "      <th>4</th>\n",
       "      <td>5.0</td>\n",
       "      <td>Lou, \\n\\nI want to be a support to you as well...</td>\n",
       "    </tr>\n",
       "  </tbody>\n",
       "</table>\n",
       "</div>"
      ],
      "text/plain": [
       "   Informational                                          post_text\n",
       "0            5.0  Hi everybody!\\n\\nI write from Galicia, in the ...\n",
       "1            5.0  Hello and Welcome Lou.\\n\\n\\nI am sorry to hear...\n",
       "2            5.0  Interesting - my ANA was/is high, but SS antib...\n",
       "3            3.0  My blood work was not diffinitive. I was DX'd ...\n",
       "4            5.0  Lou, \\n\\nI want to be a support to you as well..."
      ]
     },
     "execution_count": 5,
     "metadata": {},
     "output_type": "execute_result"
    }
   ],
   "source": [
    "#Open and clean dataset (remove spaces from column headers)\n",
    "\n",
    "with open('Sjogrens_500.csv', 'rb') as f:\n",
    "  contents = f.read()\n",
    "\n",
    "s = str(contents, 'utf-8', errors=\"ignore\")\n",
    "data = StringIO(s)\n",
    "df=pd.read_csv(data)\n",
    "df.columns = df.columns.to_series().apply(lambda x: x.strip())\n",
    "df = df[['Informational', 'post_text']]   #Edit for 'Informational/Emotional'\n",
    "df.head()"
   ]
  },
  {
   "cell_type": "code",
   "execution_count": 6,
   "metadata": {},
   "outputs": [
    {
     "data": {
      "text/html": [
       "<div>\n",
       "<style>\n",
       "    .dataframe thead tr:only-child th {\n",
       "        text-align: right;\n",
       "    }\n",
       "\n",
       "    .dataframe thead th {\n",
       "        text-align: left;\n",
       "    }\n",
       "\n",
       "    .dataframe tbody tr th {\n",
       "        vertical-align: top;\n",
       "    }\n",
       "</style>\n",
       "<table border=\"1\" class=\"dataframe\">\n",
       "  <thead>\n",
       "    <tr style=\"text-align: right;\">\n",
       "      <th></th>\n",
       "      <th>target</th>\n",
       "      <th>text</th>\n",
       "    </tr>\n",
       "  </thead>\n",
       "  <tbody>\n",
       "    <tr>\n",
       "      <th>0</th>\n",
       "      <td>5.0</td>\n",
       "      <td>Hi everybody!\\n\\nI write from Galicia, in the ...</td>\n",
       "    </tr>\n",
       "    <tr>\n",
       "      <th>1</th>\n",
       "      <td>5.0</td>\n",
       "      <td>Hello and Welcome Lou.\\n\\n\\nI am sorry to hear...</td>\n",
       "    </tr>\n",
       "    <tr>\n",
       "      <th>2</th>\n",
       "      <td>5.0</td>\n",
       "      <td>Interesting - my ANA was/is high, but SS antib...</td>\n",
       "    </tr>\n",
       "    <tr>\n",
       "      <th>3</th>\n",
       "      <td>3.0</td>\n",
       "      <td>My blood work was not diffinitive. I was DX'd ...</td>\n",
       "    </tr>\n",
       "    <tr>\n",
       "      <th>4</th>\n",
       "      <td>5.0</td>\n",
       "      <td>Lou, \\n\\nI want to be a support to you as well...</td>\n",
       "    </tr>\n",
       "  </tbody>\n",
       "</table>\n",
       "</div>"
      ],
      "text/plain": [
       "   target                                               text\n",
       "0     5.0  Hi everybody!\\n\\nI write from Galicia, in the ...\n",
       "1     5.0  Hello and Welcome Lou.\\n\\n\\nI am sorry to hear...\n",
       "2     5.0  Interesting - my ANA was/is high, but SS antib...\n",
       "3     3.0  My blood work was not diffinitive. I was DX'd ...\n",
       "4     5.0  Lou, \\n\\nI want to be a support to you as well..."
      ]
     },
     "execution_count": 6,
     "metadata": {},
     "output_type": "execute_result"
    }
   ],
   "source": [
    "#More cleaning and formatting column names for model\n",
    "\n",
    "df = df.dropna()\n",
    "df = df.rename(columns = {'post_text': 'text','Informational': 'target'})  #Edit for 'Informationl/Emotional'\n",
    "df.head()"
   ]
  },
  {
   "cell_type": "code",
   "execution_count": 26,
   "metadata": {},
   "outputs": [
    {
     "data": {
      "text/html": [
       "<div>\n",
       "<style>\n",
       "    .dataframe thead tr:only-child th {\n",
       "        text-align: right;\n",
       "    }\n",
       "\n",
       "    .dataframe thead th {\n",
       "        text-align: left;\n",
       "    }\n",
       "\n",
       "    .dataframe tbody tr th {\n",
       "        vertical-align: top;\n",
       "    }\n",
       "</style>\n",
       "<table border=\"1\" class=\"dataframe\">\n",
       "  <thead>\n",
       "    <tr>\n",
       "      <th></th>\n",
       "      <th colspan=\"4\" halign=\"left\">text</th>\n",
       "    </tr>\n",
       "    <tr>\n",
       "      <th></th>\n",
       "      <th>count</th>\n",
       "      <th>unique</th>\n",
       "      <th>top</th>\n",
       "      <th>freq</th>\n",
       "    </tr>\n",
       "    <tr>\n",
       "      <th>target</th>\n",
       "      <th></th>\n",
       "      <th></th>\n",
       "      <th></th>\n",
       "      <th></th>\n",
       "    </tr>\n",
       "  </thead>\n",
       "  <tbody>\n",
       "    <tr>\n",
       "      <th>1.0</th>\n",
       "      <td>116</td>\n",
       "      <td>116</td>\n",
       "      <td>Any suggestions would be welcome please :)\\n\\n...</td>\n",
       "      <td>1</td>\n",
       "    </tr>\n",
       "    <tr>\n",
       "      <th>2.0</th>\n",
       "      <td>39</td>\n",
       "      <td>39</td>\n",
       "      <td>Oops, my experience was with protein, not bloo...</td>\n",
       "      <td>1</td>\n",
       "    </tr>\n",
       "    <tr>\n",
       "      <th>3.0</th>\n",
       "      <td>25</td>\n",
       "      <td>25</td>\n",
       "      <td>Since taking plaquenil and being on a gluten f...</td>\n",
       "      <td>1</td>\n",
       "    </tr>\n",
       "    <tr>\n",
       "      <th>4.0</th>\n",
       "      <td>87</td>\n",
       "      <td>87</td>\n",
       "      <td>Hi̴_ :)\\n\\nThyroid problems can also cause puf...</td>\n",
       "      <td>1</td>\n",
       "    </tr>\n",
       "    <tr>\n",
       "      <th>5.0</th>\n",
       "      <td>230</td>\n",
       "      <td>230</td>\n",
       "      <td>My neck pain is due to Degenerative Disk Disea...</td>\n",
       "      <td>1</td>\n",
       "    </tr>\n",
       "  </tbody>\n",
       "</table>\n",
       "</div>"
      ],
      "text/plain": [
       "        text                                                               \n",
       "       count unique                                                top freq\n",
       "target                                                                     \n",
       "1.0      116    116  Any suggestions would be welcome please :)\\n\\n...    1\n",
       "2.0       39     39  Oops, my experience was with protein, not bloo...    1\n",
       "3.0       25     25  Since taking plaquenil and being on a gluten f...    1\n",
       "4.0       87     87  Hi̴_ :)\\n\\nThyroid problems can also cause puf...    1\n",
       "5.0      230    230  My neck pain is due to Degenerative Disk Disea...    1"
      ]
     },
     "execution_count": 26,
     "metadata": {},
     "output_type": "execute_result"
    }
   ],
   "source": [
    "#Find the distribution of rating classifications in the dataset\n",
    "df.groupby('target').describe()"
   ]
  },
  {
   "cell_type": "code",
   "execution_count": 27,
   "metadata": {},
   "outputs": [
    {
     "name": "stdout",
     "output_type": "stream",
     "text": [
      "Null Accuracy: 46.28%\n"
     ]
    }
   ],
   "source": [
    "#Null accuracy: accuracy that could be achieved by always predicting the most frequent class\n",
    "null_accuracy_Informational = (230 / len(df.target)) * 100\n",
    "print('Null Accuracy: %.2f%%' % (null_accuracy_Informational))"
   ]
  },
  {
   "cell_type": "code",
   "execution_count": 28,
   "metadata": {},
   "outputs": [
    {
     "data": {
      "text/plain": [
       "<matplotlib.legend.Legend at 0x7f3d7417d6a0>"
      ]
     },
     "execution_count": 28,
     "metadata": {},
     "output_type": "execute_result"
    },
    {
     "data": {
      "image/png": "[encoded data removed]",
      "text/plain": [
       "<matplotlib.figure.Figure at 0x7f3d71ca55c0>"
      ]
     },
     "metadata": {},
     "output_type": "display_data"
    }
   ],
   "source": [
    "#### Visualize distribution of features in dataset ###\n",
    "\n",
    "#Length of post (number of characters)\n",
    "s1 = df[df['target'] == 1]['text'].str.len()\n",
    "sns.distplot(s1, label='1')\n",
    "s2 = df[df['target'] == 2]['text'].str.len()\n",
    "sns.distplot(s2, label='2')\n",
    "s3 = df[df['target'] == 3]['text'].str.len()\n",
    "sns.distplot(s3, label='3')\n",
    "s4 = df[df['target'] == 4]['text'].str.len()\n",
    "sns.distplot(s4, label='4')\n",
    "s5 = df[df['target'] == 5]['text'].str.len()\n",
    "sns.distplot(s5, label='5')\n",
    "\n",
    "plt.title('Length of Posts in each rating class')\n",
    "plt.legend()"
   ]
  },
  {
   "cell_type": "code",
   "execution_count": 29,
   "metadata": {},
   "outputs": [
    {
     "data": {
      "text/plain": [
       "<matplotlib.legend.Legend at 0x7f3d71ed5278>"
      ]
     },
     "execution_count": 29,
     "metadata": {},
     "output_type": "execute_result"
    },
    {
     "data": {
      "image/png": "[encoded data removed]",
      "text/plain": [
       "<matplotlib.figure.Figure at 0x7f3d71eb3b38>"
      ]
     },
     "metadata": {},
     "output_type": "display_data"
    }
   ],
   "source": [
    "# Number of digits in post\n",
    "# \\d matches a digit, and \\D matches anything else\n",
    "\n",
    "s1 = df[df['target'] == 1]['text'].str.replace(r'\\D+', '').str.len()\n",
    "sns.distplot(s1, label='1')\n",
    "s2 = df[df['target'] == 2]['text'].str.replace(r'\\D+', '').str.len()\n",
    "sns.distplot(s2, label='2')\n",
    "#s3 = df[df['target'] == 3]['text'].str.replace(r'\\D+', '').str.len()\n",
    "#sns.distplot(s3, label='3')\n",
    "s4 = df[df['target'] == 4]['text'].str.replace(r'\\D+', '').str.len()\n",
    "sns.distplot(s4, label='4')\n",
    "#s5 = df[df['target'] == 5]['text'].str.replace(r'\\D+', '').str.len()\n",
    "#sns.distplot(s5, label='5')\n",
    "\n",
    "plt.title('Number (count) of digits in each post')\n",
    "plt.legend()"
   ]
  },
  {
   "cell_type": "code",
   "execution_count": 30,
   "metadata": {},
   "outputs": [
    {
     "data": {
      "text/plain": [
       "<matplotlib.legend.Legend at 0x7f3d71989710>"
      ]
     },
     "execution_count": 30,
     "metadata": {},
     "output_type": "execute_result"
    },
    {
     "data": {
      "image/png": "[encoded data removed]",
      "text/plain": [
       "<matplotlib.figure.Figure at 0x7f3d717f5eb8>"
      ]
     },
     "metadata": {},
     "output_type": "display_data"
    }
   ],
   "source": [
    "# Matches of non-word characters (anything other than a letter, digit or underscore.)\n",
    "# \\W matches a word characater, \\w matches anything else\n",
    "\n",
    "s1 = df[df['target'] == 1]['text'].str.replace(r'\\w+', '').str.len()\n",
    "sns.distplot(s1, label='1')\n",
    "s2 = df[df['target'] == 2]['text'].str.replace(r'\\w+', '').str.len()\n",
    "sns.distplot(s2, label='2')\n",
    "s3 = df[df['target'] == 3]['text'].str.replace(r'\\w+', '').str.len()\n",
    "sns.distplot(s3, label='3')\n",
    "s4 = df[df['target'] == 4]['text'].str.replace(r'\\w+', '').str.len()\n",
    "sns.distplot(s4, label='4')\n",
    "s5 = df[df['target'] == 5]['text'].str.replace(r'\\w+', '').str.len()\n",
    "sns.distplot(s5, label='5')\n",
    "\n",
    "plt.title('Number (count) of non-word characters in each post')\n",
    "plt.legend()"
   ]
  },
  {
   "cell_type": "code",
   "execution_count": 31,
   "metadata": {
    "collapsed": true
   },
   "outputs": [],
   "source": [
    "#Split the dataset into training and testing sets\n",
    "\n",
    "from sklearn.model_selection import train_test_split\n",
    "\n",
    "X_train, X_test, y_train, y_test = train_test_split(df['text'], \n",
    "                                                    df['target'], \n",
    "                                                    random_state=0)"
   ]
  },
  {
   "cell_type": "code",
   "execution_count": 32,
   "metadata": {},
   "outputs": [
    {
     "name": "stdout",
     "output_type": "stream",
     "text": [
      "Vocabulary len: 1050\n",
      "Longest word: connective tissue disease\n"
     ]
    }
   ],
   "source": [
    "'''Vectorize the 'text' input--ie, each word in the training set corpus becomes a feature, and each post  \n",
    "is represented as a vector with an integer count for each word. aka Document Term Matrix.\n",
    "Sticking with just this matrix as an input for the model is a \"Bag of Words\" approach.'''\n",
    "\n",
    "\n",
    "from sklearn.feature_extraction.text import TfidfVectorizer\n",
    "\n",
    "vect = TfidfVectorizer(min_df = 4, stop_words=\"english\", ngram_range=(1,3)).fit(X_train)\n",
    "print('Vocabulary len:', len(vect.get_feature_names()))\n",
    "print('Longest word:', max(vect.vocabulary_, key=len))\n",
    "\n",
    "X_train_vectorized = vect.transform(X_train)"
   ]
  },
  {
   "cell_type": "code",
   "execution_count": 33,
   "metadata": {},
   "outputs": [
    {
     "data": {
      "text/plain": [
       "MultinomialNB(alpha=0.1, class_prior=None, fit_prior=True)"
      ]
     },
     "execution_count": 33,
     "metadata": {},
     "output_type": "execute_result"
    }
   ],
   "source": [
    "#Train the model with training set\n",
    "from sklearn.naive_bayes import MultinomialNB\n",
    "\n",
    "model = MultinomialNB(alpha=0.1)\n",
    "model.fit(X_train_vectorized, y_train)"
   ]
  },
  {
   "cell_type": "code",
   "execution_count": 34,
   "metadata": {},
   "outputs": [
    {
     "name": "stdout",
     "output_type": "stream",
     "text": [
      "Accuracy: 62.40%\n"
     ]
    }
   ],
   "source": [
    "#Run model to predict ratings on the test set (which has to also be vectorized to a sparse matrix). Find Accuracy\n",
    "from sklearn.metrics import accuracy_score\n",
    "\n",
    "y_pred = model.predict(vect.transform(X_test))\n",
    "print('Accuracy: %.2f%%' % (accuracy_score(y_test, y_pred) * 100))"
   ]
  },
  {
   "cell_type": "code",
   "execution_count": null,
   "metadata": {
    "collapsed": true
   },
   "outputs": [],
   "source": []
  },
  {
   "cell_type": "markdown",
   "metadata": {},
   "source": [
    "Try these additional features:\n",
    "\n",
    "1. the length of document (number of characters)\n",
    "2. number of digits per document\n",
    "3. number of non-word characters (anything other than a letter, digit or underscore.)"
   ]
  },
  {
   "cell_type": "code",
   "execution_count": 39,
   "metadata": {
    "collapsed": true
   },
   "outputs": [],
   "source": [
    "#Play around with tfidf parameters, but min document frequency of 3 seems to be best (no n-grams)\n",
    "vect = TfidfVectorizer(min_df = 3).fit(X_train)"
   ]
  },
  {
   "cell_type": "code",
   "execution_count": 37,
   "metadata": {
    "collapsed": true
   },
   "outputs": [],
   "source": [
    "#Function to add features: Returns a sparse feature matrix with the added feature.\n",
    "\n",
    "def add_feature(X, feature_to_add):\n",
    "    \"\"\"\n",
    "    Returns sparse feature matrix with added feature.\n",
    "    feature_to_add can also be a list of features.\n",
    "    \"\"\"\n",
    "    from scipy.sparse import csr_matrix, hstack\n",
    "    return hstack([X, csr_matrix(feature_to_add).T], 'csr')"
   ]
  },
  {
   "cell_type": "code",
   "execution_count": 40,
   "metadata": {
    "collapsed": true
   },
   "outputs": [],
   "source": [
    "#Play around with these features, to get best accuracy (all seem to help)\n",
    "\n",
    "X_train_vectorized = vect.transform(X_train)\n",
    "\n",
    "X_train_vectorized = add_feature(X_train_vectorized, X_train.str.len())\n",
    "X_train_vectorized = add_feature(X_train_vectorized, X_train.str.replace(r'\\D+', '').str.len())\n",
    "X_train_vectorized = add_feature(X_train_vectorized, X_train.str.replace(r'\\w+', '').str.len())"
   ]
  },
  {
   "cell_type": "code",
   "execution_count": 41,
   "metadata": {},
   "outputs": [
    {
     "data": {
      "text/plain": [
       "MultinomialNB(alpha=0.1, class_prior=None, fit_prior=True)"
      ]
     },
     "execution_count": 41,
     "metadata": {},
     "output_type": "execute_result"
    }
   ],
   "source": [
    "#Fit the model\n",
    "\n",
    "model = MultinomialNB(alpha=0.1)\n",
    "model.fit(X_train_vectorized, y_train)"
   ]
  },
  {
   "cell_type": "code",
   "execution_count": 42,
   "metadata": {
    "collapsed": true
   },
   "outputs": [],
   "source": [
    "#Add the same features to the test set\n",
    "\n",
    "X_test_vectorized = vect.transform(X_test)\n",
    "\n",
    "X_test_vectorized = add_feature(X_test_vectorized, X_test.str.len())\n",
    "X_test_vectorized = add_feature(X_test_vectorized, X_test.str.replace(r'\\D+', '').str.len())\n",
    "X_test_vectorized = add_feature(X_test_vectorized, X_test.str.replace(r'\\w+', '').str.len())"
   ]
  },
  {
   "cell_type": "code",
   "execution_count": 43,
   "metadata": {},
   "outputs": [
    {
     "name": "stdout",
     "output_type": "stream",
     "text": [
      "Accuracy: 64.00%\n"
     ]
    }
   ],
   "source": [
    "#Calcuate accuracy \n",
    "\n",
    "y_pred = model.predict(X_test_vectorized)\n",
    "print('Accuracy: %.2f%%' % (accuracy_score(y_test, y_pred) * 100))"
   ]
  },
  {
   "cell_type": "code",
   "execution_count": 44,
   "metadata": {},
   "outputs": [
    {
     "data": {
      "text/plain": [
       "<125x1547 sparse matrix of type '<class 'numpy.float64'>'\n",
       "\twith 7785 stored elements in Compressed Sparse Row format>"
      ]
     },
     "execution_count": 44,
     "metadata": {},
     "output_type": "execute_result"
    }
   ],
   "source": [
    "#description of inputs\n",
    "X_test_vectorized"
   ]
  },
  {
   "cell_type": "code",
   "execution_count": 45,
   "metadata": {},
   "outputs": [
    {
     "data": {
      "text/plain": [
       "array([ 5.,  1.,  1.,  5.,  5.,  5.,  2.,  5.,  5.,  5.,  5.,  1.,  5.,\n",
       "        5.,  4.,  5.,  4.,  5.,  5.,  5.,  1.,  4.,  5.,  4.,  1.,  1.,\n",
       "        5.,  4.,  5.,  1.,  5.,  5.,  1.,  5.,  1.,  5.,  3.,  5.,  5.,\n",
       "        1.,  5.,  5.,  5.,  1.,  5.,  5.,  1.,  5.,  5.,  5.,  5.,  4.,\n",
       "        5.,  1.,  4.,  5.,  1.,  1.,  5.,  1.,  5.,  1.,  5.,  5.,  5.,\n",
       "        5.,  1.,  5.,  1.,  1.,  1.,  4.,  1.,  1.,  3.,  5.,  1.,  5.,\n",
       "        5.,  1.,  5.,  1.,  1.,  3.,  1.,  5.,  5.,  5.,  5.,  5.,  5.,\n",
       "        5.,  4.,  5.,  5.,  4.,  5.,  5.,  5.,  1.,  5.,  4.,  4.,  5.,\n",
       "        5.,  5.,  5.,  5.,  5.,  5.,  1.,  5.,  5.,  1.,  5.,  5.,  5.,\n",
       "        5.,  1.,  5.,  5.,  1.,  5.,  5.,  4.])"
      ]
     },
     "execution_count": 45,
     "metadata": {},
     "output_type": "execute_result"
    }
   ],
   "source": [
    "# predicted values\n",
    "y_pred"
   ]
  },
  {
   "cell_type": "code",
   "execution_count": 46,
   "metadata": {},
   "outputs": [
    {
     "data": {
      "text/plain": [
       "90     5.0\n",
       "255    1.0\n",
       "284    5.0\n",
       "446    5.0\n",
       "337    5.0\n",
       "15     1.0\n",
       "317    2.0\n",
       "489    5.0\n",
       "159    5.0\n",
       "153    5.0\n",
       "242    4.0\n",
       "251    1.0\n",
       "429    5.0\n",
       "290    5.0\n",
       "171    2.0\n",
       "328    5.0\n",
       "468    3.0\n",
       "354    5.0\n",
       "154    5.0\n",
       "37     5.0\n",
       "205    1.0\n",
       "365    2.0\n",
       "241    5.0\n",
       "108    4.0\n",
       "45     1.0\n",
       "439    2.0\n",
       "21     5.0\n",
       "366    2.0\n",
       "96     5.0\n",
       "234    1.0\n",
       "      ... \n",
       "394    2.0\n",
       "56     5.0\n",
       "441    4.0\n",
       "60     5.0\n",
       "208    4.0\n",
       "107    4.0\n",
       "400    4.0\n",
       "71     2.0\n",
       "474    4.0\n",
       "6      1.0\n",
       "413    5.0\n",
       "113    5.0\n",
       "237    5.0\n",
       "300    5.0\n",
       "155    5.0\n",
       "273    1.0\n",
       "7      5.0\n",
       "137    5.0\n",
       "8      1.0\n",
       "432    4.0\n",
       "433    5.0\n",
       "367    4.0\n",
       "285    5.0\n",
       "210    1.0\n",
       "188    5.0\n",
       "431    4.0\n",
       "49     2.0\n",
       "134    4.0\n",
       "364    5.0\n",
       "411    4.0\n",
       "Name: target, Length: 125, dtype: float64"
      ]
     },
     "execution_count": 46,
     "metadata": {},
     "output_type": "execute_result"
    }
   ],
   "source": [
    "#actual values\n",
    "y_test"
   ]
  },
  {
   "cell_type": "code",
   "execution_count": 102,
   "metadata": {
    "collapsed": true
   },
   "outputs": [],
   "source": []
  },
  {
   "cell_type": "code",
   "execution_count": null,
   "metadata": {
    "collapsed": true
   },
   "outputs": [],
   "source": []
  },
  {
   "cell_type": "code",
   "execution_count": null,
   "metadata": {
    "collapsed": true
   },
   "outputs": [],
   "source": []
  },
  {
   "cell_type": "code",
   "execution_count": null,
   "metadata": {
    "collapsed": true
   },
   "outputs": [],
   "source": [
    "\n"
   ]
  }
 ],
 "metadata": {
  "kernelspec": {
   "display_name": "Python 3",
   "language": "python",
   "name": "python3"
  },
  "language_info": {
   "codemirror_mode": {
    "name": "ipython",
    "version": 3
   },
   "file_extension": ".py",
   "mimetype": "text/x-python",
   "name": "python",
   "nbconvert_exporter": "python",
   "pygments_lexer": "ipython3",
   "version": "3.4.5"
  }
 },
 "nbformat": 4,
 "nbformat_minor": 2
}
